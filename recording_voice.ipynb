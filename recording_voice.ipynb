{
 "cells": [
  {
   "cell_type": "code",
   "execution_count": null,
   "id": "dbd1e367-8ca6-471b-9378-298238203a89",
   "metadata": {},
   "outputs": [],
   "source": [
    "# !pip install sounddevice"
   ]
  },
  {
   "cell_type": "code",
   "execution_count": null,
   "id": "e9111b0e-ed22-45cd-b831-da11923ba298",
   "metadata": {},
   "outputs": [],
   "source": [
    "import sounddevice\n",
    "from scipy.io.wavfile import write"
   ]
  },
  {
   "cell_type": "code",
   "execution_count": null,
   "id": "1ed7ac93-3555-4e6a-b8c6-d3dbfced9738",
   "metadata": {},
   "outputs": [],
   "source": [
    "#sample rate\n",
    "sample_frame = 44100"
   ]
  },
  {
   "cell_type": "code",
   "execution_count": null,
   "id": "165c1f15-9e14-4792-8bc9-2a3fa127a4c1",
   "metadata": {
    "tags": []
   },
   "outputs": [],
   "source": [
    "recording_time = int(input(\"Please, Enter Recording Time in second:\"))\n",
    "print(\"Recording...\\n\")"
   ]
  },
  {
   "cell_type": "code",
   "execution_count": null,
   "id": "91886a4d-1177-4978-9c33-e40e4df1962b",
   "metadata": {},
   "outputs": [],
   "source": [
    "record_voice = sounddevice.rec(frames=recording_time*sample_frame, samplerate=sample_frame, channels=2)\n",
    "sounddevice.wait()\n",
    "\n",
    "write(\"Recording.wav\", sample_frame, record_voice)\n",
    "\n",
    "print(\"Done.\")"
   ]
  }
 ],
 "metadata": {
  "kernelspec": {
   "display_name": "Python 3 (ipykernel)",
   "language": "python",
   "name": "python3"
  },
  "language_info": {
   "codemirror_mode": {
    "name": "ipython",
    "version": 3
   },
   "file_extension": ".py",
   "mimetype": "text/x-python",
   "name": "python",
   "nbconvert_exporter": "python",
   "pygments_lexer": "ipython3",
   "version": "3.9.13"
  },
  "widgets": {
   "application/vnd.jupyter.widget-state+json": {
    "state": {},
    "version_major": 2,
    "version_minor": 0
   }
  }
 },
 "nbformat": 4,
 "nbformat_minor": 5
}
